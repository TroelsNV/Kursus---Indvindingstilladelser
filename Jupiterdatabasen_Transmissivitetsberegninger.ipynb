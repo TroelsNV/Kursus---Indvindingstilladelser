{
 "cells": [
  {
   "cell_type": "code",
   "execution_count": 14,
   "metadata": {},
   "outputs": [],
   "source": [
    "%matplotlib  inline\n",
    "import pandas as pd\n",
    "import os\n",
    "import numpy as np\n",
    "import matplotlib.pyplot as plt"
   ]
  },
  {
   "cell_type": "markdown",
   "metadata": {},
   "source": [
    "# Notebook til beregning af transmissiviteter fra Jupiter på baggrund af renpumpningsdata\n",
    "Notebooken anvende Cooper-Jacob metoden til itterativt at bestemme Transmissiviteten på baggrung af renpumpningsdata. Resultaterne vil være behæftet med stor usikkerhed, da transmissivitetsestimaterne ofte er påvirket af et filtertab. Sænkningerne er således ofte højere i boringen end det omkringliggende magasin.\n",
    "\n",
    "Beregningerne er baseret på data fra [Jupiter Databasen](https://data.geus.dk/geusmap/?mapname=jupiter#baslay=baseMapDa&optlay=&extent=528681.642558052,6129998.970201795,624005.2428222394,6175247.5146309985&layers=jupiter_boringer_ws&filter_0=kode%3DV%26dgunr%3D%26anlaegsnavn.part%3D%26hovedtype%3D%26kommunenavn.part%3D%26dybde.min%3D%26dybde.max%3D%26aar.min%3D%26aar.max%3D%26formaal%3D%26anvendelse%3D%26dataejer%3D)\n",
    "\n",
    "- For at finde relevante data skal vi starte med at filtrere boringerne, så der kun vises boringer hvis formål er vandforsyning på hjemmesiden\n",
    "- Efterfølgende kan vi finde frem til de enkelte boringer vi vil se på. Hvis der er foretaget et pumpeforsøg i boringen vil det være opgjort under \"Grundvand\" - \"Pumpninger\". Se f.eks. her: [DGU 127.389](https://data.geus.dk/JupiterWWW/borerapport.jsp?borid=470457)\n",
    "\n",
    "![Jupiter data](img/pumpedata.png)\n",
    "\n",
    "Find nogle forskellige boringer i Jupiter databasen:\n",
    "- Beregn transmissiviteten for 4-5 forskellige boringer. Husk at gemme de resultater i kommer frem til sammen med DGU nummeret, da i skal burge dem igen i en senere opgave\n",
    "- Hvor følsom er beregningen over for det valgte magasintal?\n",
    "- Hvad tror i der skal til for at få så pålidelige data som muligt fra prøvepumpningsanalysen?\n",
    "- Hvis der er manglende data for nogle af boringerne (f.eks. varighed) Hvad betyder det så for resultatet hvis man \"gætter\" på en varighed af forsøget?\n",
    "\n",
    "## Boringer med pumpedata:\n",
    "![Boringer med pumpedata](img/boringer.png)"
   ]
  },
  {
   "cell_type": "code",
   "execution_count": 15,
   "metadata": {},
   "outputs": [],
   "source": [
    "# funktion til itterativt at bestemme Transmissiviteten ved anvendelse af Cooper Jacob metoden.\n",
    "def Beregn_T(Ydelse, Pumpetid, Saenkning, boringsdiameter, Smag= None):\n",
    "    e = 1e-8 # stopkriterie for itterationer over transmissiviteter\n",
    "    \n",
    "    \n",
    "    if Smag is None:\n",
    "        Smag = 0.002  # defaultværdi for Magasintallet\n",
    "    \n",
    "    if Saenkning <= 0.:\n",
    "        T = -1  # hvis sænkningen er 0 sættes transmissiviteten til -1\n",
    "    else:\n",
    "        T = 0.0001\n",
    "        Tini = 0.001\n",
    "        \n",
    "        fac = (2.3/(4*np.pi))*(Ydelse/Saenkning)\n",
    "    \n",
    "        c = 0\n",
    "        while (np.abs(Tini-T) > e) or c==30:\n",
    "            Tini = T\n",
    "            T = fac * np.log10((2.25*Tini*Pumpetid)/(boringsdiameter**2*Smag))\n",
    "            c+=1          \n",
    "            \n",
    "    return T # returner den estimerede transmissivitet"
   ]
  },
  {
   "cell_type": "markdown",
   "metadata": {},
   "source": [
    "I den efterfølgende celle beregnes transmissivitetn på baggrund af data. Der regnes for et sæt af magasintal således at følsomheden kan bestemmes. I de videre beregninger er den maksimale transmissivitet anvendt"
   ]
  },
  {
   "cell_type": "code",
   "execution_count": 17,
   "metadata": {},
   "outputs": [],
   "source": [
    "Ydelse = 50.5  # ydelse i m3/time\n",
    "Pumpetid =  90.  # Pumpetid i timer\n",
    "Saenkning = 14.87  # Sænkning i meter\n",
    "boringsdiameter = 225/1000.  # diameter på filteret der pumpes fra i meter\n",
    "Magasintal = 0.0001"
   ]
  },
  {
   "cell_type": "code",
   "execution_count": 19,
   "metadata": {},
   "outputs": [
    {
     "data": {
      "text/plain": [
       "0.0011975144099925898"
      ]
     },
     "execution_count": 19,
     "metadata": {},
     "output_type": "execute_result"
    }
   ],
   "source": [
    "Beregn_T(Ydelse, Pumpetid, Saenkning, boringsdiameter, Smag= None)/(60*60)"
   ]
  },
  {
   "cell_type": "code",
   "execution_count": null,
   "metadata": {},
   "outputs": [],
   "source": []
  }
 ],
 "metadata": {
  "kernelspec": {
   "display_name": "Python 3 (ipykernel)",
   "language": "python",
   "name": "python3"
  },
  "language_info": {
   "codemirror_mode": {
    "name": "ipython",
    "version": 3
   },
   "file_extension": ".py",
   "mimetype": "text/x-python",
   "name": "python",
   "nbconvert_exporter": "python",
   "pygments_lexer": "ipython3",
   "version": "3.9.7"
  }
 },
 "nbformat": 4,
 "nbformat_minor": 4
}
